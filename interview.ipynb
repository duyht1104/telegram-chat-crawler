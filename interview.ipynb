{
 "cells": [
  {
   "cell_type": "code",
   "execution_count": 87,
   "metadata": {},
   "outputs": [],
   "source": [
    "import os\n",
    "import pandas as pd\n",
    "import random\n",
    "from faker import Faker\n",
    "import datetime\n",
    "import json\n",
    "\n",
    "# ex_time = \"2024-02-29T10:11:12.10\"\n",
    "\n",
    "# correct_time = datetime.datetime.strptime(ex_time,\"%Y-%m-%dT%H:%M:%S.%f\")\n",
    "\n"
   ]
  },
  {
   "cell_type": "markdown",
   "metadata": {},
   "source": [
    "#### Gen faker data"
   ]
  },
  {
   "cell_type": "code",
   "execution_count": 146,
   "metadata": {},
   "outputs": [],
   "source": [
    "faker = Faker()\n",
    "\n",
    "data = []\n",
    "\n",
    "for _ in range(1000):\n",
    "    rand_sec = random.randint(0, 60*60*24)\n",
    "    rand_day = random.randint(-1000,1000)\n",
    "    time = datetime.datetime.now() + datetime.timedelta(seconds=rand_sec) + datetime.timedelta(days=rand_day)\n",
    "    rand_num = range(random.randint(1,4))\n",
    "\n",
    "    data.append({\n",
    "        \"date\": time.strftime(\"%Y-%m-%dT%H:%M:%S.%f\")[:-4],\n",
    "        \"news\": [faker.sentence() for _ in rand_num],\n",
    "        \"sentiments\": [faker.random_element(elements = (\"Positive\", \"Neutral\", \"Negative\")) for _ in rand_num],\n",
    "        \"title\": faker.sentence(),\n",
    "        \"url\": faker.url()\n",
    "    })\n",
    "\n"
   ]
  },
  {
   "cell_type": "code",
   "execution_count": 148,
   "metadata": {},
   "outputs": [],
   "source": [
    "def export_data(data, period):\n",
    "    \n",
    "    df = pd.DataFrame(data)\n",
    "    df[\"date\"] = pd.to_datetime(df[\"date\"])\n",
    "    if period == \"year_month\":\n",
    "        df[\"year_month\"] = df[\"date\"].dt.strftime(\"%Y-%m\")\n",
    "    if period == \"year_month_week\":\n",
    "        df[\"year_month_week\"] = df[\"date\"].dt.strftime(\"%Y-%m-\") + \"W\" + df[\"date\"].dt.strftime(\"%V\") \n",
    "    if period == \"year_month_day\":\n",
    "        df[\"year_month_day\"] = df[\"date\"].dt.strftime(\"%Y-%m-%d\")\n",
    "    if period != \"year_month\" and period != \"year_month_week\" and period != \"year_month_day\":\n",
    "        return \"select correct period\"\n",
    "    df = df.sort_values([\"date\"], ascending=False).reset_index(drop=True)\n",
    "    df = df.explode([\"news\", \"sentiments\"])\n",
    "    df = df.groupby(by = period).agg({\"title\": list, \"url\": list, \"news\": list, \"sentiments\": list})\n",
    "\n",
    "    df = df.reset_index()\n",
    "    df.head()\n",
    "\n",
    "    for index, row in df.iterrows():\n",
    "        input_period = row[period]\n",
    "        folder_path = f\"D:\\copy_trade\\\\testfolder\\{input_period}\"\n",
    "        os.makedirs(folder_path, exist_ok=True)\n",
    "        data = {\n",
    "            row[period]: row[period],\n",
    "            \"title\": row[\"title\"],\n",
    "            \"url\": row[\"url\"],\n",
    "            \"news\": row[\"news\"],\n",
    "            \"sentiments\": row[\"sentiments\"]\n",
    "        }\n",
    "        with open(os.path.join(folder_path, 'data.json'), 'w') as f:\n",
    "            json.dump(data, f)\n",
    "\n",
    "    "
   ]
  },
  {
   "cell_type": "code",
   "execution_count": 149,
   "metadata": {},
   "outputs": [],
   "source": [
    "export_data(data = data, period=\"year_month_week\")"
   ]
  },
  {
   "cell_type": "code",
   "execution_count": 3,
   "metadata": {},
   "outputs": [],
   "source": [
    "### Export data"
   ]
  },
  {
   "cell_type": "code",
   "execution_count": null,
   "metadata": {},
   "outputs": [],
   "source": []
  }
 ],
 "metadata": {
  "kernelspec": {
   "display_name": "base",
   "language": "python",
   "name": "python3"
  },
  "language_info": {
   "codemirror_mode": {
    "name": "ipython",
    "version": 3
   },
   "file_extension": ".py",
   "mimetype": "text/x-python",
   "name": "python",
   "nbconvert_exporter": "python",
   "pygments_lexer": "ipython3",
   "version": "3.11.3"
  }
 },
 "nbformat": 4,
 "nbformat_minor": 2
}
